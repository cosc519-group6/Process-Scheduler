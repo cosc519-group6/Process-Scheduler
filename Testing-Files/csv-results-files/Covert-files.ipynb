{
 "cells": [
  {
   "cell_type": "code",
   "execution_count": 2,
   "metadata": {},
   "outputs": [],
   "source": [
    "import pandas as pd\n",
    "\n",
    "read_file = pd.read_csv('resultsFCFS.txt')\n",
    "read_file.to_csv('resultsFCFS.csv', index=None)\n",
    "\n",
    "read_file = pd.read_csv('resultsSJF.txt')\n",
    "read_file.to_csv('resultsSJF.csv', index=None)\n",
    "\n",
    "read_file = pd.read_csv('resultsRR.txt')\n",
    "read_file.to_csv('resultsRR.csv', index=None)"
   ]
  },
  {
   "cell_type": "code",
   "execution_count": 11,
   "metadata": {},
   "outputs": [
    {
     "name": "stdout",
     "output_type": "stream",
     "text": [
      "0.9913911004\n",
      "32.34\n",
      "15.9\n"
     ]
    }
   ],
   "source": [
    "df_FCFS = pd.read_csv('resultsFCFS.csv')\n",
    "\n",
    "FCFS_cpu_mean = df_FCFS[\"cpu\"].mean()\n",
    "FCFS_avgwaittime_mean = df_FCFS[\"avgwaittime\"].mean()\n",
    "FCFS_avgresponsetime_mean = df_FCFS[\"avgresponsetime\"].mean()\n",
    "print(FCFS_cpu_mean)\n",
    "print(FCFS_avgwaittime_mean)\n",
    "print(FCFS_avgresponsetime_mean)"
   ]
  },
  {
   "cell_type": "code",
   "execution_count": 10,
   "metadata": {},
   "outputs": [
    {
     "name": "stdout",
     "output_type": "stream",
     "text": [
      "0.9913911004\n",
      "11.48\n",
      "0.72\n"
     ]
    }
   ],
   "source": [
    "df_SJF = pd.read_csv('resultsSJF.csv')\n",
    "\n",
    "SJF_cpu_mean = df_SJF[\"cpu\"].mean()\n",
    "SJF_avgwaittime_mean = df_SJF[\"avgwaittime\"].mean()\n",
    "SJF_avgresponsetime_mean = df_SJF[\"avgresponsetime\"].mean()\n",
    "print(SJF_cpu_mean)\n",
    "print(SJF_avgwaittime_mean)\n",
    "print(SJF_avgresponsetime_mean)"
   ]
  },
  {
   "cell_type": "code",
   "execution_count": 13,
   "metadata": {},
   "outputs": [
    {
     "name": "stdout",
     "output_type": "stream",
     "text": [
      "0.9913911004\n",
      "25.16\n",
      "3.84\n"
     ]
    }
   ],
   "source": [
    "df_RR = pd.read_csv('resultsRR.csv')\n",
    "\n",
    "RR_cpu_mean = df_RR[\"cpu\"].mean()\n",
    "RR_avgwaittime_mean = df_RR[\"avgwaittime\"].mean()\n",
    "RR_avgresponsetime_mean = df_RR[\"avgresponsetime\"].mean()\n",
    "print(RR_cpu_mean)\n",
    "print(RR_avgwaittime_mean)\n",
    "print(RR_avgresponsetime_mean)"
   ]
  },
  {
   "cell_type": "code",
   "execution_count": 15,
   "metadata": {},
   "outputs": [
    {
     "data": {
      "text/html": [
       "<div>\n",
       "<style scoped>\n",
       "    .dataframe tbody tr th:only-of-type {\n",
       "        vertical-align: middle;\n",
       "    }\n",
       "\n",
       "    .dataframe tbody tr th {\n",
       "        vertical-align: top;\n",
       "    }\n",
       "\n",
       "    .dataframe thead th {\n",
       "        text-align: right;\n",
       "    }\n",
       "</style>\n",
       "<table border=\"1\" class=\"dataframe\">\n",
       "  <thead>\n",
       "    <tr style=\"text-align: right;\">\n",
       "      <th></th>\n",
       "      <th>cpu</th>\n",
       "      <th>avgwaittime</th>\n",
       "      <th>avgresponsetime</th>\n",
       "    </tr>\n",
       "  </thead>\n",
       "  <tbody>\n",
       "    <tr>\n",
       "      <th>0</th>\n",
       "      <td>1.000000</td>\n",
       "      <td>47.0</td>\n",
       "      <td>23.0</td>\n",
       "    </tr>\n",
       "    <tr>\n",
       "      <th>1</th>\n",
       "      <td>0.977273</td>\n",
       "      <td>33.0</td>\n",
       "      <td>16.0</td>\n",
       "    </tr>\n",
       "    <tr>\n",
       "      <th>2</th>\n",
       "      <td>0.979167</td>\n",
       "      <td>39.0</td>\n",
       "      <td>19.0</td>\n",
       "    </tr>\n",
       "    <tr>\n",
       "      <th>3</th>\n",
       "      <td>1.000000</td>\n",
       "      <td>35.0</td>\n",
       "      <td>17.0</td>\n",
       "    </tr>\n",
       "    <tr>\n",
       "      <th>4</th>\n",
       "      <td>1.000000</td>\n",
       "      <td>26.0</td>\n",
       "      <td>13.0</td>\n",
       "    </tr>\n",
       "    <tr>\n",
       "      <th>5</th>\n",
       "      <td>0.978261</td>\n",
       "      <td>36.0</td>\n",
       "      <td>18.0</td>\n",
       "    </tr>\n",
       "    <tr>\n",
       "      <th>6</th>\n",
       "      <td>1.000000</td>\n",
       "      <td>16.0</td>\n",
       "      <td>8.0</td>\n",
       "    </tr>\n",
       "    <tr>\n",
       "      <th>7</th>\n",
       "      <td>1.000000</td>\n",
       "      <td>29.0</td>\n",
       "      <td>14.0</td>\n",
       "    </tr>\n",
       "    <tr>\n",
       "      <th>8</th>\n",
       "      <td>1.000000</td>\n",
       "      <td>43.0</td>\n",
       "      <td>21.0</td>\n",
       "    </tr>\n",
       "    <tr>\n",
       "      <th>9</th>\n",
       "      <td>1.000000</td>\n",
       "      <td>27.0</td>\n",
       "      <td>13.0</td>\n",
       "    </tr>\n",
       "  </tbody>\n",
       "</table>\n",
       "</div>"
      ],
      "text/plain": [
       "        cpu  avgwaittime  avgresponsetime\n",
       "0  1.000000         47.0             23.0\n",
       "1  0.977273         33.0             16.0\n",
       "2  0.979167         39.0             19.0\n",
       "3  1.000000         35.0             17.0\n",
       "4  1.000000         26.0             13.0\n",
       "5  0.978261         36.0             18.0\n",
       "6  1.000000         16.0              8.0\n",
       "7  1.000000         29.0             14.0\n",
       "8  1.000000         43.0             21.0\n",
       "9  1.000000         27.0             13.0"
      ]
     },
     "execution_count": 15,
     "metadata": {},
     "output_type": "execute_result"
    }
   ],
   "source": [
    "df_FCFS.head(10)"
   ]
  },
  {
   "cell_type": "code",
   "execution_count": null,
   "metadata": {},
   "outputs": [],
   "source": []
  }
 ],
 "metadata": {
  "kernelspec": {
   "display_name": "Python 3",
   "language": "python",
   "name": "python3"
  },
  "language_info": {
   "codemirror_mode": {
    "name": "ipython",
    "version": 3
   },
   "file_extension": ".py",
   "mimetype": "text/x-python",
   "name": "python",
   "nbconvert_exporter": "python",
   "pygments_lexer": "ipython3",
   "version": "3.8.3"
  }
 },
 "nbformat": 4,
 "nbformat_minor": 4
}
